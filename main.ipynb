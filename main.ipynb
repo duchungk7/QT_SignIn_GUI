{
 "cells": [
  {
   "cell_type": "code",
   "execution_count": 1,
   "metadata": {},
   "outputs": [],
   "source": [
    "# -*- coding: utf-8 -*-\n",
    "from PyQt5 import QtWidgets, QtGui, QtCore\n",
    "from PyQt5.QtWidgets import QMessageBox\n",
    "from myQLineEdit_ui import Ui_MainWindow\n",
    "import sys\n",
    "import os"
   ]
  },
  {
   "cell_type": "code",
   "execution_count": 2,
   "metadata": {},
   "outputs": [],
   "source": [
    "class MainWindow(QtWidgets.QMainWindow):\n",
    "    def __init__(self):\n",
    "        super(MainWindow, self).__init__()\n",
    "        self.ui = Ui_MainWindow()\n",
    "        self.ui.setupUi(self)\n",
    "        \n",
    "        \n",
    "        #============= 物件 初始化 設定=============\n",
    "        \n",
    "        # Set Window Icon \n",
    "        self.setWindowIcon(QtGui.QIcon('app_icon.png'))\n",
    "        #self.setWindowTitle(\"\")\n",
    "        # lineEdit\n",
    "        self.ui.lineEdit_acount.setFocus()\n",
    "        \n",
    "        #預設為 隱藏\n",
    "        #self.ui.label2.setVisible(False)\n",
    "        #self.ui.label1.setFont(QtGui.QFont('Arial', 10))\n",
    "        #self.ui.label.setText('Nothing')\n",
    "        #self.ui.lineEdit.setText('輸入欄位')\n",
    "        #self.ui.lineEdit.setFocus()\n",
    "        #self.ui.pushButton.setText('Display')\n",
    "        \n",
    "        \n",
    "        \n",
    "        #============= 事件 功能 設計 =============\n",
    "        # Menu\n",
    "        self.ui.retranslateUi(self)\n",
    "        self.ui.actionExit.setShortcut('Ctrl+Q')\n",
    "        self.ui.actionExit.triggered.connect(self.close)\n",
    "        \n",
    "        \n",
    "        # 呼叫 buttonClicked 函數\n",
    "        self.ui.button1.clicked.connect(self.buttonClicked)\n",
    "\n",
    "        \n",
    "\n",
    "    # 定義 button 功能\n",
    "    def buttonClicked(self):\n",
    "        account_text = self.ui.lineEdit_acount.text()\n",
    "        password_text = self.ui.lineEdit_password.text()\n",
    "        \n",
    "        #self.ui.label2.setText(text)\n",
    "        \n",
    "        #label2 讀取 lineEdit 內容後 顯示\n",
    "        #self.ui.label2.setVisible(True)\n",
    "        #self.ui.lineEdit.clear()\n",
    "      \n"
   ]
  },
  {
   "cell_type": "code",
   "execution_count": 3,
   "metadata": {},
   "outputs": [
    {
     "ename": "SystemExit",
     "evalue": "0",
     "output_type": "error",
     "traceback": [
      "An exception has occurred, use %tb to see the full traceback.\n",
      "\u001b[1;31mSystemExit\u001b[0m\u001b[1;31m:\u001b[0m 0\n"
     ]
    },
    {
     "name": "stderr",
     "output_type": "stream",
     "text": [
      "C:\\Users\\duchu\\Anaconda3\\lib\\site-packages\\IPython\\core\\interactiveshell.py:3334: UserWarning: To exit: use 'exit', 'quit', or Ctrl-D.\n",
      "  warn(\"To exit: use 'exit', 'quit', or Ctrl-D.\", stacklevel=1)\n"
     ]
    }
   ],
   "source": [
    "if __name__ == '__main__':\n",
    "    app = QtWidgets.QApplication([])\n",
    "    window = MainWindow()\n",
    "    window.show()\n",
    "    sys.exit(app.exec_())\n"
   ]
  },
  {
   "cell_type": "code",
   "execution_count": null,
   "metadata": {},
   "outputs": [],
   "source": []
  }
 ],
 "metadata": {
  "kernelspec": {
   "display_name": "Python 3",
   "language": "python",
   "name": "python3"
  },
  "language_info": {
   "codemirror_mode": {
    "name": "ipython",
    "version": 3
   },
   "file_extension": ".py",
   "mimetype": "text/x-python",
   "name": "python",
   "nbconvert_exporter": "python",
   "pygments_lexer": "ipython3",
   "version": "3.7.4"
  }
 },
 "nbformat": 4,
 "nbformat_minor": 2
}
